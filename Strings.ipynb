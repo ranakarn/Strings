{
 "cells": [
  {
   "cell_type": "markdown",
   "metadata": {},
   "source": [
    "# AlgoExpert"
   ]
  },
  {
   "cell_type": "markdown",
   "metadata": {},
   "source": [
    "Checking for Palindrome String\n",
    "Input : abcddcba\n",
    "Input : abcdcba\n",
    "Input : adcbcaa"
   ]
  },
  {
   "cell_type": "code",
   "execution_count": 4,
   "metadata": {},
   "outputs": [
    {
     "name": "stdout",
     "output_type": "stream",
     "text": [
      "False\n"
     ]
    }
   ],
   "source": [
    "# Time Complexity : O(n) | Space complixity : O(1)\n",
    "\n",
    "def isPalindrome(string):\n",
    "    leftIndex = 0\n",
    "    rightIndex = len(string) - 1\n",
    "    \n",
    "    while(leftIndex < rightIndex):\n",
    "        if (string[leftIndex] != string[rightIndex]):\n",
    "            return False\n",
    "            \n",
    "        leftIndex = leftIndex + 1\n",
    "        rightIndex = rightIndex - 1\n",
    "    return True\n",
    "\n",
    "st = \"abcdcaa\"\n",
    "ans = isPalindrome(st)\n",
    "print(ans)\n",
    "        "
   ]
  },
  {
   "cell_type": "markdown",
   "metadata": {},
   "source": [
    "Caeser Cypher \n",
    "Input : ranakarn\n",
    "Input : xyzab"
   ]
  },
  {
   "cell_type": "code",
   "execution_count": 6,
   "metadata": {},
   "outputs": [
    {
     "name": "stdout",
     "output_type": "stream",
     "text": [
      "bcdi\n"
     ]
    }
   ],
   "source": [
    "# Time Complixity : O(n) | Space Complixity : O(n)\n",
    "\n",
    "def CaeserCypher(string, key):\n",
    "    newKey = key % 26\n",
    "    cypherCode = []\n",
    "    qw = \"\"\n",
    "    for i in string:\n",
    "        cypherCode.append(alpha(ord(i), newKey))    #ord function gives UNICODE of a character\n",
    "    qw = \"\".join(cypherCode)           # joins the list into a string\n",
    "    print(qw)\n",
    "    \n",
    "        \n",
    "def alpha(uCode, newKey):\n",
    "    code = uCode + newKey\n",
    "    if (code > 122):\n",
    "        code = 96 + (code % 122)\n",
    "    else:\n",
    "        code = code + newKey\n",
    "    \n",
    "    return chr(code)      #chr function gives character according to UNICODE\n",
    "\n",
    "st = \"xyza\"\n",
    "CaeserCypher(st, 56)\n"
   ]
  },
  {
   "cell_type": "markdown",
   "metadata": {},
   "source": [
    "Longest Palindrome Substring \n",
    "Input : \n",
    "Input : "
   ]
  },
  {
   "cell_type": "code",
   "execution_count": 13,
   "metadata": {},
   "outputs": [
    {
     "name": "stdout",
     "output_type": "stream",
     "text": [
      "\n"
     ]
    }
   ],
   "source": [
    "# Time Complixity : O(n^2) | Space Complixity : O(1)\n",
    "\n",
    "def longestPalindrome(string):\n",
    "    currLong = \"\"                          \n",
    "    for i in range(1,len(string)):\n",
    "        odd = getPstring(string, i -1, i + 1)\n",
    "        even = getPstring(string, i - 1, i)\n",
    "        if(len(odd) > len(even) and len(odd) > len(currLong)):\n",
    "            currLong = odd\n",
    "           \n",
    "        if(len(even) > len(odd) and len(even) > len(currLong)):\n",
    "            currLong = even\n",
    "    if len(currLong) == 1:\n",
    "        print(string[0])\n",
    "    else:\n",
    "        print(currLong)\n",
    "            \n",
    "def getPstring(string, Lindex, Rindex):\n",
    "    while (Lindex >= 0 and Rindex < len(string)):\n",
    "        if (string[Lindex] != string[Rindex]):\n",
    "            break\n",
    "        Lindex -= 1\n",
    "        Rindex += 1\n",
    "    print(string[Lindex+1:Rindex])      \n",
    "    return string[Lindex+1:Rindex]\n",
    "\n",
    "st = \"o\"\n",
    "longestPalindrome(st)                       "
   ]
  },
  {
   "cell_type": "markdown",
   "metadata": {},
   "source": [
    "Group Anagram"
   ]
  },
  {
   "cell_type": "code",
   "execution_count": 16,
   "metadata": {},
   "outputs": [
    {
     "name": "stdout",
     "output_type": "stream",
     "text": [
      "['yo']\n",
      "['act']\n",
      "['flop']\n",
      "['act', 'tac']\n",
      "['act', 'tac', 'cat']\n",
      "['yo', 'oy']\n",
      "['flop', 'olfp']\n",
      "['boy']\n"
     ]
    }
   ],
   "source": [
    "def groupAnagram(words):\n",
    "    anagrams = {}\n",
    "    sortArr = []\n",
    "    for w in words:\n",
    "        sortedWord = \"\".join(sorted(w))\n",
    "        if sortedWord in anagrams:\n",
    "            anagrams[sortedWord].append(w)\n",
    "            print(anagrams[sortedWord])\n",
    "        else:\n",
    "            anagrams[sortedWord] = [w]\n",
    "            print(anagrams[sortedWord])\n",
    "    \n",
    "\n",
    "st = [\"yo\", \"act\", \"flop\", \"tac\", \"cat\", \"oy\", \"olfp\", \"boy\"]\n",
    "groupAnagram(st)"
   ]
  },
  {
   "cell_type": "code",
   "execution_count": null,
   "metadata": {},
   "outputs": [],
   "source": []
  },
  {
   "cell_type": "code",
   "execution_count": null,
   "metadata": {},
   "outputs": [],
   "source": []
  }
 ],
 "metadata": {
  "kernelspec": {
   "display_name": "Python 3",
   "language": "python",
   "name": "python3"
  },
  "language_info": {
   "codemirror_mode": {
    "name": "ipython",
    "version": 3
   },
   "file_extension": ".py",
   "mimetype": "text/x-python",
   "name": "python",
   "nbconvert_exporter": "python",
   "pygments_lexer": "ipython3",
   "version": "3.7.3"
  }
 },
 "nbformat": 4,
 "nbformat_minor": 2
}
